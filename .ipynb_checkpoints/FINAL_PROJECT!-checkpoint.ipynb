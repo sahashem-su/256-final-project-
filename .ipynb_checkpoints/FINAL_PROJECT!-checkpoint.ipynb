{
 "cells": [
  {
   "cell_type": "code",
   "execution_count": 2,
   "metadata": {},
   "outputs": [],
   "source": [
    "import json \n",
    "import requests\n",
    "import pandas as pd\n",
    "import folium"
   ]
  },
  {
   "cell_type": "code",
   "execution_count": 6,
   "metadata": {},
   "outputs": [
    {
     "name": "stdout",
     "output_type": "stream",
     "text": [
      "Enter you address in this format. ex: 1600 Amphitheatre Parkway, Mountain View, CA: 19-19 76 Street, East elmhurst, NY\n"
     ]
    },
    {
     "data": {
      "text/html": [
       "<div>\n",
       "<style scoped>\n",
       "    .dataframe tbody tr th:only-of-type {\n",
       "        vertical-align: middle;\n",
       "    }\n",
       "\n",
       "    .dataframe tbody tr th {\n",
       "        vertical-align: top;\n",
       "    }\n",
       "\n",
       "    .dataframe thead th {\n",
       "        text-align: right;\n",
       "    }\n",
       "</style>\n",
       "<table border=\"1\" class=\"dataframe\">\n",
       "  <thead>\n",
       "    <tr style=\"text-align: right;\">\n",
       "      <th></th>\n",
       "      <th>lat</th>\n",
       "      <th>lng</th>\n",
       "    </tr>\n",
       "  </thead>\n",
       "  <tbody>\n",
       "    <tr>\n",
       "      <th>0</th>\n",
       "      <td>40.772691</td>\n",
       "      <td>-73.89387</td>\n",
       "    </tr>\n",
       "  </tbody>\n",
       "</table>\n",
       "</div>"
      ],
      "text/plain": [
       "         lat       lng\n",
       "0  40.772691 -73.89387"
      ]
     },
     "metadata": {},
     "output_type": "display_data"
    },
    {
     "name": "stdout",
     "output_type": "stream",
     "text": [
      "Enter you longitude and latitude provided to you: 40.772691\t-73.89387\n"
     ]
    },
    {
     "data": {
      "text/html": [
       "<div>\n",
       "<style scoped>\n",
       "    .dataframe tbody tr th:only-of-type {\n",
       "        vertical-align: middle;\n",
       "    }\n",
       "\n",
       "    .dataframe tbody tr th {\n",
       "        vertical-align: top;\n",
       "    }\n",
       "\n",
       "    .dataframe thead th {\n",
       "        text-align: right;\n",
       "    }\n",
       "</style>\n",
       "<table border=\"1\" class=\"dataframe\">\n",
       "  <thead>\n",
       "    <tr style=\"text-align: right;\">\n",
       "      <th></th>\n",
       "      <th>Name</th>\n",
       "      <th>Address</th>\n",
       "    </tr>\n",
       "  </thead>\n",
       "  <tbody>\n",
       "    <tr>\n",
       "      <th>0</th>\n",
       "      <td>Tesla Destination Charger</td>\n",
       "      <td>1980 Steinway St, Queens</td>\n",
       "    </tr>\n",
       "    <tr>\n",
       "      <th>1</th>\n",
       "      <td>Tesla Destination Charger</td>\n",
       "      <td>143-159 W 68th St, New York</td>\n",
       "    </tr>\n",
       "    <tr>\n",
       "      <th>2</th>\n",
       "      <td>Tesla Destination Charger</td>\n",
       "      <td>320 W 57th St, New York</td>\n",
       "    </tr>\n",
       "    <tr>\n",
       "      <th>3</th>\n",
       "      <td>Tesla Destination Charger</td>\n",
       "      <td>920 Park Ave, New York</td>\n",
       "    </tr>\n",
       "    <tr>\n",
       "      <th>4</th>\n",
       "      <td>EVgo Charging Station</td>\n",
       "      <td>5820 Francis Lewis Blvd, Hollis Hills</td>\n",
       "    </tr>\n",
       "  </tbody>\n",
       "</table>\n",
       "</div>"
      ],
      "text/plain": [
       "                        Name                                Address\n",
       "0  Tesla Destination Charger               1980 Steinway St, Queens\n",
       "1  Tesla Destination Charger            143-159 W 68th St, New York\n",
       "2  Tesla Destination Charger                320 W 57th St, New York\n",
       "3  Tesla Destination Charger                 920 Park Ave, New York\n",
       "4      EVgo Charging Station  5820 Francis Lewis Blvd, Hollis Hills"
      ]
     },
     "metadata": {},
     "output_type": "display_data"
    },
    {
     "data": {
      "text/html": [
       "<div style=\"width:100%;\"><div style=\"position:relative;width:100%;height:0;padding-bottom:60%;\"><iframe src=\"data:text/html;charset=utf-8;base64,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\" style=\"position:absolute;width:100%;height:100%;left:0;top:0;border:none !important;\" allowfullscreen webkitallowfullscreen mozallowfullscreen></iframe></div></div>"
      ],
      "text/plain": [
       "<folium.folium.Map at 0x1123071d0>"
      ]
     },
     "metadata": {},
     "output_type": "display_data"
    }
   ],
   "source": [
    "try:\n",
    "##def Street():  This is converting your address into a longitude and longitude\n",
    "## Use of google geocoding API\n",
    "    useraddress= input(\"Enter you address in this format. ex: 1600 Amphitheatre Parkway, Mountain View, CA: \")\n",
    "    parameters = (useraddress)\n",
    "    url = 'https://maps.googleapis.com/maps/api/geocode/json?address='+parameters+'&key='\n",
    "    response = requests.get(url)\n",
    "    street = response.json()\n",
    "\n",
    "    lat=[]\n",
    "    for i in range (0,1):\n",
    "        lat.append(street['results'][i]['geometry']['location'])\n",
    "    lat_df = pd.DataFrame(lat)\n",
    "\n",
    "    display(lat_df)\n",
    "\n",
    "\n",
    "\n",
    "##def Address_find():  This is taking the long/lat found from entering your address in def Street() and outputting the top 5 charging stations.\n",
    "##Use of google Place API    \n",
    "    userlocation = input(\"Enter you longitude and latitude provided to you: \")\n",
    "    params = (userlocation)\n",
    "    ur_l = 'https://maps.googleapis.com/maps/api/place/nearbysearch/json?location='+params+'&type=Electric_vehicle_charging_station&radius=10000&keyword=charger&key='\n",
    "    response = requests.get(ur_l)\n",
    "    maps = response.json()\n",
    "    maps_list =[]\n",
    "    \n",
    "    for i in range(0,5):\n",
    "        maps_list.append(maps['results'][i]['vicinity'])\n",
    "    name_list=[]\n",
    "    \n",
    "    for i in range(0,5):\n",
    "        name_list.append(maps['results'][i]['name'])\n",
    "    name= pd.Series(data = name_list, name = \"Name\")\n",
    "    address = pd.Series(data = maps_list, name = \"Address\")\n",
    "\n",
    "    series_dict = {'Name':name,'Address':  address,}\n",
    "    address_df = pd.DataFrame( series_dict )\n",
    "    display(address_df)\n",
    "        # Function causes problems in program \n",
    "\n",
    "    \n",
    "    \n",
    "##def chargingmap(): This is taking the output from Address_Find() and plotting the data on a map.\n",
    "##Use of Folium and google place API\n",
    "    ur_l = 'https://maps.googleapis.com/maps/api/place/nearbysearch/json?type=Electric_vehicle_charging_station&location='+params+'&radius=10000&keyword=charger&key='\n",
    "    response = requests.get(ur_l)\n",
    "    maps = response.json()\n",
    "    location=[]\n",
    "    for i in range(0,5):\n",
    "        location.append(maps['results'][i]['geometry']['location'])\n",
    "    location_df = pd.DataFrame(location)\n",
    "\n",
    "    CENTER_US = (39.8283,-98.5795)\n",
    "    map = folium.Map(location=CENTER_US, zoom_start=4)\n",
    "    \n",
    "    for row in location_df.to_records():\n",
    "        pos = (row['lat'],row['lng'])\n",
    "        marker = folium.Marker(location=pos)\n",
    "        map.add_child(marker)\n",
    "    display (map)\n",
    "\n",
    "    \n",
    "except(IndexError):\n",
    "    \n",
    "    print(\"invalid location or no charging stations found near you\")\n",
    "except(TypeError):    \n",
    "    print(\"invalid location or no charging stations found near you\")\n"
   ]
  },
  {
   "cell_type": "code",
   "execution_count": null,
   "metadata": {},
   "outputs": [],
   "source": []
  }
 ],
 "metadata": {
  "kernelspec": {
   "display_name": "Python 3",
   "language": "python",
   "name": "python3"
  }
 },
 "nbformat": 4,
 "nbformat_minor": 2
}
