{
 "cells": [
  {
   "cell_type": "code",
   "execution_count": null,
   "metadata": {},
   "outputs": [],
   "source": [
    "                                    ### Trial And Error Part of Project###\n",
    "#import folium\n",
    "#import pandas as pd\n",
    "#import random \n",
    "#import json \n",
    "#import requests \n",
    "\n",
    "# Find a google maps API - convert location into lon/lat\n",
    "# Find API for charging locations \n",
    "# change to json file \n",
    "# convert address to Long Lat\n",
    "# Create pins for folium map using Long Lat"
   ]
  },
  {
   "cell_type": "code",
   "execution_count": null,
   "metadata": {},
   "outputs": [],
   "source": [
    "                    ###Trial To find correct API, never used this API in final code###\n",
    "#url = \"https://api.openchargemap.io/v3/poi/?output=json&countrycode=US&maxresults=100&compact=true&verbose=false\"\n",
    "#response = requests.get(url)"
   ]
  },
  {
   "cell_type": "code",
   "execution_count": null,
   "metadata": {},
   "outputs": [],
   "source": [
    "                    ###Trying to find information from an API not used in final code###\n",
    "#def parse_url():\n",
    "    #parameters = {\"AddressInfo\":\"Latitude\",\"AddressInfo\":\"Longitude\"}\n",
    "    #response = requests.get(\"https://api.openchargemap.io/v3/poi/?output=json&countrycode=US&maxresults=100&compact=true&verbose=false\")#params = parameters\n",
    "    #data = response.json()\n",
    "    #location = data['AddressInfo']\n",
    "    #return data"
   ]
  },
  {
   "cell_type": "code",
   "execution_count": null,
   "metadata": {},
   "outputs": [],
   "source": [
    "                                            ###Function Test###\n",
    "#parse_url()"
   ]
  },
  {
   "cell_type": "code",
   "execution_count": null,
   "metadata": {},
   "outputs": [],
   "source": [
    "                ###Finding amount of data outputted from API not used in final code###\n",
    "#data = parse_url()\n",
    "#for i in range (0,100):\n",
    "    #lat = data[i]['AddressInfo']['Latitude']\n",
    "    #lon = data[i]['AddressInfo']['Longitude']    \n",
    "\n",
    "#print(len(data))"
   ]
  },
  {
   "cell_type": "code",
   "execution_count": null,
   "metadata": {
    "scrolled": false
   },
   "outputs": [],
   "source": [
    "                        ###Creating a dataframe that we didnt use###\n",
    "#location = parse_url()\n",
    "#location_df = pd.DataFrame(location)\n",
    "#location_df"
   ]
  },
  {
   "cell_type": "code",
   "execution_count": null,
   "metadata": {},
   "outputs": [],
   "source": [
    "           ###Testing google API we found and finding out how to use it for final project###\n",
    "#def Address_find():\n",
    "    #params = ()\n",
    "    #ur_l = 'https://maps.googleapis.com/maps/api/place/nearbysearch/json?type=Electric_vehicle_charging_station&location=43.0481,-76.1474&radius=9000&keyword=charger&key='\n",
    "    #response = requests.get(ur_l)\n",
    "    #maps = response.json()\n",
    "    \n",
    "    #maps_list =[]\n",
    "    #for i in range(0,10):\n",
    "        #maps_list.append(maps['results'][i]['geometry']['location'])\n",
    "    #maps_df = pd.DataFrame(maps_list)\n",
    "    \n",
    "    #return maps_df"
   ]
  },
  {
   "cell_type": "code",
   "execution_count": 1,
   "metadata": {},
   "outputs": [],
   "source": [
    "                        ###Initial design of final code components starts here###\n",
    "# ALL RELAVENT IMPORTS\n",
    "import json \n",
    "import requests\n",
    "import pandas as pd\n",
    "import folium"
   ]
  },
  {
   "cell_type": "code",
   "execution_count": 2,
   "metadata": {},
   "outputs": [],
   "source": [
    "# FUNTCION FOR CONVERTING ADDRESS TO LON & LAT\n",
    "def FindStreet():\n",
    "    useraddress= input(\"Enter you address in this format ex: 1600 Amphitheatre Parkway, Mountain View, CA --> 1600+Amphitheatre+Parkway,+Mountain+View,+CA\")\n",
    "    parameters = (useraddress)\n",
    "    url = 'https://maps.googleapis.com/maps/api/geocode/json?address='+parameters+'&key='\n",
    "    response = requests.get(url)\n",
    "    street = response.json()\n",
    "\n",
    "    lat=[]\n",
    "    for i in range (0,1):\n",
    "        lat.append(street['results'][i]['geometry']['location'])\n",
    "    lat_df = pd.DataFrame(lat)\n",
    "    \n",
    "    return(lat_df)\n"
   ]
  },
  {
   "cell_type": "code",
   "execution_count": 3,
   "metadata": {},
   "outputs": [
    {
     "name": "stdout",
     "output_type": "stream",
     "text": [
      "Enter you address in this format ex: 1600 Amphitheatre Parkway, Mountain View, CA --> 1600+Amphitheatre+Parkway,+Mountain+View,+CA238 washington ave, Pleasantville, NY\n"
     ]
    },
    {
     "data": {
      "text/html": [
       "<div>\n",
       "<style scoped>\n",
       "    .dataframe tbody tr th:only-of-type {\n",
       "        vertical-align: middle;\n",
       "    }\n",
       "\n",
       "    .dataframe tbody tr th {\n",
       "        vertical-align: top;\n",
       "    }\n",
       "\n",
       "    .dataframe thead th {\n",
       "        text-align: right;\n",
       "    }\n",
       "</style>\n",
       "<table border=\"1\" class=\"dataframe\">\n",
       "  <thead>\n",
       "    <tr style=\"text-align: right;\">\n",
       "      <th></th>\n",
       "      <th>lat</th>\n",
       "      <th>lng</th>\n",
       "    </tr>\n",
       "  </thead>\n",
       "  <tbody>\n",
       "    <tr>\n",
       "      <th>0</th>\n",
       "      <td>41.141366</td>\n",
       "      <td>-73.789635</td>\n",
       "    </tr>\n",
       "  </tbody>\n",
       "</table>\n",
       "</div>"
      ],
      "text/plain": [
       "         lat        lng\n",
       "0  41.141366 -73.789635"
      ]
     },
     "execution_count": 3,
     "metadata": {},
     "output_type": "execute_result"
    }
   ],
   "source": [
    "FindStreet()"
   ]
  },
  {
   "cell_type": "code",
   "execution_count": 4,
   "metadata": {},
   "outputs": [],
   "source": [
    "# FUNCTION FOR FINDING CHARGING STATIONS FOR GIVEN LAT & LON  \n",
    "def Address_find():   \n",
    "    userlocation = input(\"Enter longitude and latitude provided to you: \")\n",
    "    params = (userlocation)\n",
    "    ur_l = 'https://maps.googleapis.com/maps/api/place/nearbysearch/json?location='+params+'&type=Electric_vehicle_charging_station&radius=10000&keyword=charger&key='\n",
    "    response = requests.get(ur_l)\n",
    "    maps = response.json()\n",
    "    maps_list =[]\n",
    "    for i in range(0,5):\n",
    "        maps_list.append(maps['results'][i]['vicinity'])\n",
    "    name_list=[]\n",
    "    for i in range(0,5):\n",
    "        name_list.append(maps['results'][i]['name'])\n",
    "    name= pd.Series(data = name_list, name = \"Name\")\n",
    "    address = pd.Series(data = maps_list, name = \"Address\")\n",
    "\n",
    "    series_dict = {'Name':name,'Address':  address,}\n",
    "    address_df = pd.DataFrame( series_dict )\n",
    "    return(address_df)"
   ]
  },
  {
   "cell_type": "code",
   "execution_count": 13,
   "metadata": {},
   "outputs": [
    {
     "name": "stdout",
     "output_type": "stream",
     "text": [
      "Enter longitude and latitude provided to you: 41.141366\t-73.789635\n"
     ]
    },
    {
     "data": {
      "text/html": [
       "<div>\n",
       "<style scoped>\n",
       "    .dataframe tbody tr th:only-of-type {\n",
       "        vertical-align: middle;\n",
       "    }\n",
       "\n",
       "    .dataframe tbody tr th {\n",
       "        vertical-align: top;\n",
       "    }\n",
       "\n",
       "    .dataframe thead th {\n",
       "        text-align: right;\n",
       "    }\n",
       "</style>\n",
       "<table border=\"1\" class=\"dataframe\">\n",
       "  <thead>\n",
       "    <tr style=\"text-align: right;\">\n",
       "      <th></th>\n",
       "      <th>Name</th>\n",
       "      <th>Address</th>\n",
       "    </tr>\n",
       "  </thead>\n",
       "  <tbody>\n",
       "    <tr>\n",
       "      <th>0</th>\n",
       "      <td>Tesla Destination Charger</td>\n",
       "      <td>55 Locust Rd, Greenwich</td>\n",
       "    </tr>\n",
       "    <tr>\n",
       "      <th>1</th>\n",
       "      <td>Tesla Destination Charger</td>\n",
       "      <td>49 E Sunnyside Ln, Tarrytown</td>\n",
       "    </tr>\n",
       "    <tr>\n",
       "      <th>2</th>\n",
       "      <td>ChargePoint Charging Station</td>\n",
       "      <td>101 NY-9A, Ossining</td>\n",
       "    </tr>\n",
       "    <tr>\n",
       "      <th>3</th>\n",
       "      <td>Flash Chargers 4U</td>\n",
       "      <td>123 Sears Ave, Elmsford</td>\n",
       "    </tr>\n",
       "    <tr>\n",
       "      <th>4</th>\n",
       "      <td>ChargePoint Charging Station</td>\n",
       "      <td>371 S Broadway, Tarrytown</td>\n",
       "    </tr>\n",
       "  </tbody>\n",
       "</table>\n",
       "</div>"
      ],
      "text/plain": [
       "                           Name                       Address\n",
       "0     Tesla Destination Charger       55 Locust Rd, Greenwich\n",
       "1     Tesla Destination Charger  49 E Sunnyside Ln, Tarrytown\n",
       "2  ChargePoint Charging Station           101 NY-9A, Ossining\n",
       "3             Flash Chargers 4U       123 Sears Ave, Elmsford\n",
       "4  ChargePoint Charging Station     371 S Broadway, Tarrytown"
      ]
     },
     "execution_count": 13,
     "metadata": {},
     "output_type": "execute_result"
    }
   ],
   "source": [
    "Address_find()"
   ]
  },
  {
   "cell_type": "code",
   "execution_count": 5,
   "metadata": {},
   "outputs": [],
   "source": [
    "# FUNCTION FOR PRINTING A MAP\n",
    "# Shown in final code#\n",
    "def chargingmap():\n",
    "    ur_l = 'https://maps.googleapis.com/maps/api/place/nearbysearch/json?type=Electric_vehicle_charging_station&location='+params+'&radius=10000&keyword=charger&key='\n",
    "    response = requests.get(ur_l)\n",
    "    maps = response.json()\n",
    "    location=[]\n",
    "    for i in range (0,5):\n",
    "        location.append(maps['results'][i]['geometry']['location'])\n",
    "    location_df = pd.DataFrame(location)\n",
    "\n",
    "    CENTER_US = (39.8283,-98.5795)\n",
    "    map = folium.Map(location=CENTER_US, zoom_start=4)\n",
    "    for row in location_df.to_records():\n",
    "        pos = (row['lat'],row['lng'])\n",
    "        marker = folium.Marker(location=pos)\n",
    "        map.add_child(marker)\n",
    "    return map"
   ]
  },
  {
   "cell_type": "code",
   "execution_count": 16,
   "metadata": {},
   "outputs": [
    {
     "name": "stdout",
     "output_type": "stream",
     "text": [
      "Enter you address in this format. ex: 1600 Amphitheatre Parkway, Mountain View, CA238 washington ave, Pleasantville, NY\n"
     ]
    },
    {
     "data": {
      "text/html": [
       "<div>\n",
       "<style scoped>\n",
       "    .dataframe tbody tr th:only-of-type {\n",
       "        vertical-align: middle;\n",
       "    }\n",
       "\n",
       "    .dataframe tbody tr th {\n",
       "        vertical-align: top;\n",
       "    }\n",
       "\n",
       "    .dataframe thead th {\n",
       "        text-align: right;\n",
       "    }\n",
       "</style>\n",
       "<table border=\"1\" class=\"dataframe\">\n",
       "  <thead>\n",
       "    <tr style=\"text-align: right;\">\n",
       "      <th></th>\n",
       "      <th>lat</th>\n",
       "      <th>lng</th>\n",
       "    </tr>\n",
       "  </thead>\n",
       "  <tbody>\n",
       "    <tr>\n",
       "      <th>0</th>\n",
       "      <td>41.141366</td>\n",
       "      <td>-73.789635</td>\n",
       "    </tr>\n",
       "  </tbody>\n",
       "</table>\n",
       "</div>"
      ],
      "text/plain": [
       "         lat        lng\n",
       "0  41.141366 -73.789635"
      ]
     },
     "metadata": {},
     "output_type": "display_data"
    },
    {
     "name": "stdout",
     "output_type": "stream",
     "text": [
      "Enter you longitude and latitude provided to you: 41.141366\t-73.789635\n"
     ]
    },
    {
     "data": {
      "text/html": [
       "<div>\n",
       "<style scoped>\n",
       "    .dataframe tbody tr th:only-of-type {\n",
       "        vertical-align: middle;\n",
       "    }\n",
       "\n",
       "    .dataframe tbody tr th {\n",
       "        vertical-align: top;\n",
       "    }\n",
       "\n",
       "    .dataframe thead th {\n",
       "        text-align: right;\n",
       "    }\n",
       "</style>\n",
       "<table border=\"1\" class=\"dataframe\">\n",
       "  <thead>\n",
       "    <tr style=\"text-align: right;\">\n",
       "      <th></th>\n",
       "      <th>Name</th>\n",
       "      <th>Address</th>\n",
       "    </tr>\n",
       "  </thead>\n",
       "  <tbody>\n",
       "    <tr>\n",
       "      <th>0</th>\n",
       "      <td>Tesla Destination Charger</td>\n",
       "      <td>55 Locust Rd, Greenwich</td>\n",
       "    </tr>\n",
       "    <tr>\n",
       "      <th>1</th>\n",
       "      <td>Tesla Destination Charger</td>\n",
       "      <td>49 E Sunnyside Ln, Tarrytown</td>\n",
       "    </tr>\n",
       "    <tr>\n",
       "      <th>2</th>\n",
       "      <td>ChargePoint Charging Station</td>\n",
       "      <td>101 NY-9A, Ossining</td>\n",
       "    </tr>\n",
       "    <tr>\n",
       "      <th>3</th>\n",
       "      <td>Flash Chargers 4U</td>\n",
       "      <td>123 Sears Ave, Elmsford</td>\n",
       "    </tr>\n",
       "    <tr>\n",
       "      <th>4</th>\n",
       "      <td>ChargePoint Charging Station</td>\n",
       "      <td>371 S Broadway, Tarrytown</td>\n",
       "    </tr>\n",
       "  </tbody>\n",
       "</table>\n",
       "</div>"
      ],
      "text/plain": [
       "                           Name                       Address\n",
       "0     Tesla Destination Charger       55 Locust Rd, Greenwich\n",
       "1     Tesla Destination Charger  49 E Sunnyside Ln, Tarrytown\n",
       "2  ChargePoint Charging Station           101 NY-9A, Ossining\n",
       "3             Flash Chargers 4U       123 Sears Ave, Elmsford\n",
       "4  ChargePoint Charging Station     371 S Broadway, Tarrytown"
      ]
     },
     "metadata": {},
     "output_type": "display_data"
    },
    {
     "data": {
      "text/html": [
       "<div style=\"width:100%;\"><div style=\"position:relative;width:100%;height:0;padding-bottom:60%;\"><iframe src=\"data:text/html;charset=utf-8;base64,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\" style=\"position:absolute;width:100%;height:100%;left:0;top:0;border:none !important;\" allowfullscreen webkitallowfullscreen mozallowfullscreen></iframe></div></div>"
      ],
      "text/plain": [
       "<folium.folium.Map at 0x11622a908>"
      ]
     },
     "execution_count": 16,
     "metadata": {},
     "output_type": "execute_result"
    }
   ],
   "source": [
    "                                            ###Phase 1 Final Code###\n",
    "\n",
    "##def FindStreet(): no need for function here\n",
    "useraddress= input(\"Enter you address in this format. ex: 1600 Amphitheatre Parkway, Mountain View, CA\")\n",
    "parameters = (useraddress)\n",
    "url = 'https://maps.googleapis.com/maps/api/geocode/json?address='+parameters+'&key='\n",
    "response = requests.get(url)\n",
    "street = response.json()\n",
    "\n",
    "lat=[]\n",
    "for i in range (0,1):\n",
    "    lat.append(street['results'][i]['geometry']['location'])\n",
    "lat_df = pd.DataFrame(lat)\n",
    "    \n",
    "display (lat_df)\n",
    "#def Address_find(): no need for function here \n",
    "userlocation = input(\"Enter you longitude and latitude provided to you: \")\n",
    "params = (userlocation)\n",
    "ur_l = 'https://maps.googleapis.com/maps/api/place/nearbysearch/json?location='+params+'&type=Electric_vehicle_charging_station&radius=10000&keyword=charger&key='\n",
    "response = requests.get(ur_l)\n",
    "maps = response.json()\n",
    "maps_list =[]\n",
    "for i in range(0,5):\n",
    "    maps_list.append(maps['results'][i]['vicinity'])\n",
    "name_list=[]\n",
    "for i in range(0,5):\n",
    "    name_list.append(maps['results'][i]['name'])\n",
    "name= pd.Series(data = name_list, name = \"Name\")\n",
    "address = pd.Series(data = maps_list, name = \"Address\")\n",
    "\n",
    "series_dict = {'Name':name,'Address':  address,}\n",
    "address_df = pd.DataFrame( series_dict )\n",
    "display(address_df)\n",
    "# Function helps create map more easily\n",
    "def chargingmap():\n",
    "    ur_l = 'https://maps.googleapis.com/maps/api/place/nearbysearch/json?type=Electric_vehicle_charging_station&location='+params+'&radius=10000&keyword=charger&key='\n",
    "    response = requests.get(ur_l)\n",
    "    maps = response.json()\n",
    "    location=[]\n",
    "    for i in range (0,5):\n",
    "        location.append(maps['results'][i]['geometry']['location'])\n",
    "    location_df = pd.DataFrame(location)\n",
    "\n",
    "    CENTER_US = (39.8283,-98.5795)\n",
    "    map = folium.Map(location=CENTER_US, zoom_start=4)\n",
    "    for row in location_df.to_records():\n",
    "        pos = (row['lat'],row['lng'])\n",
    "        marker = folium.Marker(location=pos)\n",
    "        map.add_child(marker)\n",
    "    return map\n",
    "chargingmap()"
   ]
  },
  {
   "cell_type": "code",
   "execution_count": 6,
   "metadata": {},
   "outputs": [
    {
     "name": "stdout",
     "output_type": "stream",
     "text": [
      "Enter you address in this format. ex: 1600 Amphitheatre Parkway, Mountain View, CA: North pole\n"
     ]
    },
    {
     "data": {
      "text/html": [
       "<div>\n",
       "<style scoped>\n",
       "    .dataframe tbody tr th:only-of-type {\n",
       "        vertical-align: middle;\n",
       "    }\n",
       "\n",
       "    .dataframe tbody tr th {\n",
       "        vertical-align: top;\n",
       "    }\n",
       "\n",
       "    .dataframe thead th {\n",
       "        text-align: right;\n",
       "    }\n",
       "</style>\n",
       "<table border=\"1\" class=\"dataframe\">\n",
       "  <thead>\n",
       "    <tr style=\"text-align: right;\">\n",
       "      <th></th>\n",
       "      <th>lat</th>\n",
       "      <th>lng</th>\n",
       "    </tr>\n",
       "  </thead>\n",
       "  <tbody>\n",
       "    <tr>\n",
       "      <th>0</th>\n",
       "      <td>90.0</td>\n",
       "      <td>-135</td>\n",
       "    </tr>\n",
       "  </tbody>\n",
       "</table>\n",
       "</div>"
      ],
      "text/plain": [
       "    lat  lng\n",
       "0  90.0 -135"
      ]
     },
     "metadata": {},
     "output_type": "display_data"
    },
    {
     "name": "stdout",
     "output_type": "stream",
     "text": [
      "Enter you longitude and latitude provided to you: 90.0\t-135\n",
      "invalid location or no charging stations found near you\n"
     ]
    }
   ],
   "source": [
    "                    ###Phase 2 Adding exeptions and increasing code readability###\n",
    "try:\n",
    "##def Street():  This is converting your address into a longitude and longitude\n",
    "## Use of google geocoding API\n",
    "    useraddress= input(\"Enter you address in this format. ex: 1600 Amphitheatre Parkway, Mountain View, CA: \")\n",
    "    parameters = (useraddress)\n",
    "    url = 'https://maps.googleapis.com/maps/api/geocode/json?address='+parameters+'&key='\n",
    "    response = requests.get(url)\n",
    "    street = response.json()\n",
    "\n",
    "    lat=[]\n",
    "    for i in range (0,1):\n",
    "        lat.append(street['results'][i]['geometry']['location'])\n",
    "    lat_df = pd.DataFrame(lat)\n",
    "\n",
    "    display(lat_df)\n",
    "\n",
    "\n",
    "\n",
    "##def Address_find():  This is taking the long/lat found from entering your address in def Street() and outputting the top 5 charging stations.\n",
    "##Use of google Place API    \n",
    "    userlocation = input(\"Enter you longitude and latitude provided to you: \")\n",
    "    params = (userlocation)\n",
    "    ur_l = 'https://maps.googleapis.com/maps/api/place/nearbysearch/json?location='+params+'&type=Electric_vehicle_charging_station&radius=10000&keyword=charger&key='\n",
    "    response = requests.get(ur_l)\n",
    "    maps = response.json()\n",
    "    maps_list =[]\n",
    "    \n",
    "    for i in range(0,5):\n",
    "        maps_list.append(maps['results'][i]['vicinity'])\n",
    "    name_list=[]\n",
    "    \n",
    "    for i in range(0,5):\n",
    "        name_list.append(maps['results'][i]['name'])\n",
    "    name= pd.Series(data = name_list, name = \"Name\")\n",
    "    address = pd.Series(data = maps_list, name = \"Address\")\n",
    "\n",
    "    series_dict = {'Name':name,'Address':  address,}\n",
    "    address_df = pd.DataFrame( series_dict )\n",
    "    display(address_df)\n",
    "        # Function causes problems in program \n",
    "\n",
    "    \n",
    "    \n",
    "##def chargingmap(): This is taking the output from Address_Find() and plotting the data on a map.\n",
    "##Use of Folium and google place API\n",
    "    ur_l = 'https://maps.googleapis.com/maps/api/place/nearbysearch/json?type=Electric_vehicle_charging_station&location='+params+'&radius=10000&keyword=charger&key='\n",
    "    response = requests.get(ur_l)\n",
    "    maps = response.json()\n",
    "    location=[]\n",
    "    for i in range(0,5):\n",
    "        location.append(maps['results'][i]['geometry']['location'])\n",
    "    location_df = pd.DataFrame(location)\n",
    "\n",
    "    CENTER_US = (39.8283,-98.5795)\n",
    "    map = folium.Map(location=CENTER_US, zoom_start=4)\n",
    "    \n",
    "    for row in location_df.to_records():\n",
    "        pos = (row['lat'],row['lng'])\n",
    "        marker = folium.Marker(location=pos)\n",
    "        map.add_child(marker)\n",
    "    display (map)\n",
    "\n",
    "    \n",
    "except(IndexError):\n",
    "    print(\"invalid location or no charging stations found near you\")\n",
    "except(TypeError):    \n",
    "    print(\"invalid location or no charging stations found near you\")"
   ]
  },
  {
   "cell_type": "code",
   "execution_count": null,
   "metadata": {},
   "outputs": [],
   "source": []
  }
 ],
 "metadata": {
  "kernelspec": {
   "display_name": "Python 3",
   "language": "python",
   "name": "python3"
  },
  "language_info": {
   "codemirror_mode": {
    "name": "ipython",
    "version": 3
   },
   "file_extension": ".py",
   "mimetype": "text/x-python",
   "name": "python",
   "nbconvert_exporter": "python",
   "pygments_lexer": "ipython3",
   "version": "3.6.6"
  }
 },
 "nbformat": 4,
 "nbformat_minor": 2
}
